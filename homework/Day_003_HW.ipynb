讀取 txt 檔
請讀取 text file
懶人複製連結: https://raw.githubusercontent.com/vashineyu/slides_and_others/master/tutorial/examples/imagenet_urls_examples.txt
Hints: 使用 Request 抓取資料
Hints: 字串分割
Hints: 例外處理: Try-Except

## 假如我們不想把資料載到自己的電腦裡?
# 把連結填入
target_url = 'https://raw.githubusercontent.com/vashineyu/slides_and_others/master/tutorial/examples/imagenet_urls_examples.txt'
